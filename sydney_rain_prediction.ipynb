{
 "cells": [
  {
   "cell_type": "markdown",
   "id": "c5381dcb",
   "metadata": {},
   "source": [
    "# Supervised Machine Learning Final Project"
   ]
  },
  {
   "cell_type": "markdown",
   "id": "5576b1da",
   "metadata": {},
   "source": [
    "### Import the required modules"
   ]
  },
  {
   "cell_type": "code",
   "execution_count": 1,
   "id": "9419d107",
   "metadata": {},
   "outputs": [],
   "source": [
    "import numpy as np\n",
    "import pandas as pd\n",
    "import matplotlib.pyplot as plt\n",
    "import seaborn as sns\n",
    "from sklearn.model_selection import train_test_split\n",
    "from sklearn.linear_model import LogisticRegression\n",
    "from sklearn.neighbors import KNeighborsClassifier\n",
    "from sklearn import metrics\n",
    "from sklearn.impute import KNNImputer\n",
    "from sklearn.tree import DecisionTreeClassifier\n",
    "from sklearn.ensemble import AdaBoostClassifier\n",
    "from sklearn.ensemble import RandomForestClassifier\n",
    "from sklearn.svm import SVC\n",
    "from sklearn.preprocessing import normalize\n",
    "from sklearn.model_selection import cross_val_score, GridSearchCV\n",
    "from sklearn.metrics import confusion_matrix"
   ]
  },
  {
   "cell_type": "markdown",
   "id": "ee9c175f",
   "metadata": {},
   "source": [
    "## I. Project Information\n",
    "This is a project where I will use supervised machine learning to perform binary classification. In this specific case, I chose weather data collected for 10 years from Australia. The goal is to predict whether it will rain tomorrow, based on the weather data from today.\n",
    "\n",
    "Weather forecasting is a complicated topic, and I was interested in how accurate we can make predictions about tomorrow's weather, solely based on the weather today, without using information about the weather that is happening elsewhere. \n",
    "\n",
    "Github repository: <br>\n",
    "https://github.com/highdeltav/SupervisedLearning/blob/main/machine_learning_supervised_final_project.ipynb <br>\n",
    "https://github.com/highdeltav/SupervisedLearning/blob/main/machine_learning_supervised_final_project.pdf\n"
   ]
  },
  {
   "cell_type": "markdown",
   "id": "a866f911",
   "metadata": {},
   "source": [
    "## II. Data Information\n",
    "This dataset was obtained from Kaggle. I only downloaded the raw dataset, and because of the nature of this assignment, I did not read any of the other code relating to the dataset. <br> \n",
    "\n",
    "The dataset itself is 10 years worth of weather data from different cities in Australia. The data was gathered from publicly available weather data, produced by the Australian Bureau of Meteorology. The weather observations were taken twice a day at 9 AM and 3PM. There are also some values that were aggregated over the entire 24 hour day.<br>\n",
    "\n",
    "The data is tabulated data featuring 14,5460 samples and 23 features. However, because weather data would vary from region to region and station to station, I limited the data that I was using to just the city of Sydney, which has 3,344 observations. \n",
    "\n",
    "\n",
    "There are features relating to temperature, pressure, cloudiness and rainfall. Most of the features are numerical, however, wind direction is categorical, with 16 different categories, and 'RainToday' and \"RainTomorrow' are both binary categories, with a yes/no value.\n",
    "\n",
    "This is also an unbalanced dataset. Approximately 25 percent of the days have rain, and 75 percent do not.\n",
    "\n",
    "**Citation** <br>\n",
    "Young, Joe.  *Rain in Australia* \\[Data set\\]. https://www.kaggle.com/datasets/jsphyg/weather-dataset-rattle-package?resource=download"
   ]
  },
  {
   "cell_type": "code",
   "execution_count": 2,
   "id": "0ac48b87",
   "metadata": {},
   "outputs": [],
   "source": [
    "# Read in CSV\n",
    "df_all =pd.read_csv('rain_aus/weatherAUS.csv')\n"
   ]
  },
  {
   "cell_type": "code",
   "execution_count": 3,
   "id": "6f9ccb8b",
   "metadata": {},
   "outputs": [
    {
     "data": {
      "text/html": [
       "<div>\n",
       "<style scoped>\n",
       "    .dataframe tbody tr th:only-of-type {\n",
       "        vertical-align: middle;\n",
       "    }\n",
       "\n",
       "    .dataframe tbody tr th {\n",
       "        vertical-align: top;\n",
       "    }\n",
       "\n",
       "    .dataframe thead th {\n",
       "        text-align: right;\n",
       "    }\n",
       "</style>\n",
       "<table border=\"1\" class=\"dataframe\">\n",
       "  <thead>\n",
       "    <tr style=\"text-align: right;\">\n",
       "      <th></th>\n",
       "      <th>Date</th>\n",
       "      <th>Location</th>\n",
       "      <th>MinTemp</th>\n",
       "      <th>MaxTemp</th>\n",
       "      <th>Rainfall</th>\n",
       "      <th>Evaporation</th>\n",
       "      <th>Sunshine</th>\n",
       "      <th>WindGustDir</th>\n",
       "      <th>WindGustSpeed</th>\n",
       "      <th>WindDir9am</th>\n",
       "      <th>...</th>\n",
       "      <th>Humidity9am</th>\n",
       "      <th>Humidity3pm</th>\n",
       "      <th>Pressure9am</th>\n",
       "      <th>Pressure3pm</th>\n",
       "      <th>Cloud9am</th>\n",
       "      <th>Cloud3pm</th>\n",
       "      <th>Temp9am</th>\n",
       "      <th>Temp3pm</th>\n",
       "      <th>RainToday</th>\n",
       "      <th>RainTomorrow</th>\n",
       "    </tr>\n",
       "  </thead>\n",
       "  <tbody>\n",
       "    <tr>\n",
       "      <th>0</th>\n",
       "      <td>2008-12-01</td>\n",
       "      <td>Albury</td>\n",
       "      <td>13.4</td>\n",
       "      <td>22.9</td>\n",
       "      <td>0.6</td>\n",
       "      <td>NaN</td>\n",
       "      <td>NaN</td>\n",
       "      <td>W</td>\n",
       "      <td>44.0</td>\n",
       "      <td>W</td>\n",
       "      <td>...</td>\n",
       "      <td>71.0</td>\n",
       "      <td>22.0</td>\n",
       "      <td>1007.7</td>\n",
       "      <td>1007.1</td>\n",
       "      <td>8.0</td>\n",
       "      <td>NaN</td>\n",
       "      <td>16.9</td>\n",
       "      <td>21.8</td>\n",
       "      <td>No</td>\n",
       "      <td>No</td>\n",
       "    </tr>\n",
       "    <tr>\n",
       "      <th>1</th>\n",
       "      <td>2008-12-02</td>\n",
       "      <td>Albury</td>\n",
       "      <td>7.4</td>\n",
       "      <td>25.1</td>\n",
       "      <td>0.0</td>\n",
       "      <td>NaN</td>\n",
       "      <td>NaN</td>\n",
       "      <td>WNW</td>\n",
       "      <td>44.0</td>\n",
       "      <td>NNW</td>\n",
       "      <td>...</td>\n",
       "      <td>44.0</td>\n",
       "      <td>25.0</td>\n",
       "      <td>1010.6</td>\n",
       "      <td>1007.8</td>\n",
       "      <td>NaN</td>\n",
       "      <td>NaN</td>\n",
       "      <td>17.2</td>\n",
       "      <td>24.3</td>\n",
       "      <td>No</td>\n",
       "      <td>No</td>\n",
       "    </tr>\n",
       "    <tr>\n",
       "      <th>2</th>\n",
       "      <td>2008-12-03</td>\n",
       "      <td>Albury</td>\n",
       "      <td>12.9</td>\n",
       "      <td>25.7</td>\n",
       "      <td>0.0</td>\n",
       "      <td>NaN</td>\n",
       "      <td>NaN</td>\n",
       "      <td>WSW</td>\n",
       "      <td>46.0</td>\n",
       "      <td>W</td>\n",
       "      <td>...</td>\n",
       "      <td>38.0</td>\n",
       "      <td>30.0</td>\n",
       "      <td>1007.6</td>\n",
       "      <td>1008.7</td>\n",
       "      <td>NaN</td>\n",
       "      <td>2.0</td>\n",
       "      <td>21.0</td>\n",
       "      <td>23.2</td>\n",
       "      <td>No</td>\n",
       "      <td>No</td>\n",
       "    </tr>\n",
       "    <tr>\n",
       "      <th>3</th>\n",
       "      <td>2008-12-04</td>\n",
       "      <td>Albury</td>\n",
       "      <td>9.2</td>\n",
       "      <td>28.0</td>\n",
       "      <td>0.0</td>\n",
       "      <td>NaN</td>\n",
       "      <td>NaN</td>\n",
       "      <td>NE</td>\n",
       "      <td>24.0</td>\n",
       "      <td>SE</td>\n",
       "      <td>...</td>\n",
       "      <td>45.0</td>\n",
       "      <td>16.0</td>\n",
       "      <td>1017.6</td>\n",
       "      <td>1012.8</td>\n",
       "      <td>NaN</td>\n",
       "      <td>NaN</td>\n",
       "      <td>18.1</td>\n",
       "      <td>26.5</td>\n",
       "      <td>No</td>\n",
       "      <td>No</td>\n",
       "    </tr>\n",
       "    <tr>\n",
       "      <th>4</th>\n",
       "      <td>2008-12-05</td>\n",
       "      <td>Albury</td>\n",
       "      <td>17.5</td>\n",
       "      <td>32.3</td>\n",
       "      <td>1.0</td>\n",
       "      <td>NaN</td>\n",
       "      <td>NaN</td>\n",
       "      <td>W</td>\n",
       "      <td>41.0</td>\n",
       "      <td>ENE</td>\n",
       "      <td>...</td>\n",
       "      <td>82.0</td>\n",
       "      <td>33.0</td>\n",
       "      <td>1010.8</td>\n",
       "      <td>1006.0</td>\n",
       "      <td>7.0</td>\n",
       "      <td>8.0</td>\n",
       "      <td>17.8</td>\n",
       "      <td>29.7</td>\n",
       "      <td>No</td>\n",
       "      <td>No</td>\n",
       "    </tr>\n",
       "  </tbody>\n",
       "</table>\n",
       "<p>5 rows × 23 columns</p>\n",
       "</div>"
      ],
      "text/plain": [
       "         Date Location  MinTemp  MaxTemp  Rainfall  Evaporation  Sunshine  \\\n",
       "0  2008-12-01   Albury     13.4     22.9       0.6          NaN       NaN   \n",
       "1  2008-12-02   Albury      7.4     25.1       0.0          NaN       NaN   \n",
       "2  2008-12-03   Albury     12.9     25.7       0.0          NaN       NaN   \n",
       "3  2008-12-04   Albury      9.2     28.0       0.0          NaN       NaN   \n",
       "4  2008-12-05   Albury     17.5     32.3       1.0          NaN       NaN   \n",
       "\n",
       "  WindGustDir  WindGustSpeed WindDir9am  ... Humidity9am  Humidity3pm  \\\n",
       "0           W           44.0          W  ...        71.0         22.0   \n",
       "1         WNW           44.0        NNW  ...        44.0         25.0   \n",
       "2         WSW           46.0          W  ...        38.0         30.0   \n",
       "3          NE           24.0         SE  ...        45.0         16.0   \n",
       "4           W           41.0        ENE  ...        82.0         33.0   \n",
       "\n",
       "   Pressure9am  Pressure3pm  Cloud9am  Cloud3pm  Temp9am  Temp3pm  RainToday  \\\n",
       "0       1007.7       1007.1       8.0       NaN     16.9     21.8         No   \n",
       "1       1010.6       1007.8       NaN       NaN     17.2     24.3         No   \n",
       "2       1007.6       1008.7       NaN       2.0     21.0     23.2         No   \n",
       "3       1017.6       1012.8       NaN       NaN     18.1     26.5         No   \n",
       "4       1010.8       1006.0       7.0       8.0     17.8     29.7         No   \n",
       "\n",
       "   RainTomorrow  \n",
       "0            No  \n",
       "1            No  \n",
       "2            No  \n",
       "3            No  \n",
       "4            No  \n",
       "\n",
       "[5 rows x 23 columns]"
      ]
     },
     "execution_count": 3,
     "metadata": {},
     "output_type": "execute_result"
    }
   ],
   "source": [
    "df_all.head()"
   ]
  },
  {
   "cell_type": "code",
   "execution_count": 4,
   "id": "443dd9e3",
   "metadata": {},
   "outputs": [
    {
     "name": "stdout",
     "output_type": "stream",
     "text": [
      "Total number of Observations: 145460\n",
      "Total number of wind directions: 16\n"
     ]
    }
   ],
   "source": [
    "print(f\"Total number of Observations: {len(df_all.index)}\" )\n",
    "print(f\"Total number of wind directions: {len(df_all['WindDir9am'].value_counts())}\")"
   ]
  },
  {
   "cell_type": "code",
   "execution_count": 5,
   "id": "77bf88f5",
   "metadata": {},
   "outputs": [
    {
     "data": {
      "text/plain": [
       "Date              object\n",
       "Location          object\n",
       "MinTemp          float64\n",
       "MaxTemp          float64\n",
       "Rainfall         float64\n",
       "Evaporation      float64\n",
       "Sunshine         float64\n",
       "WindGustDir       object\n",
       "WindGustSpeed    float64\n",
       "WindDir9am        object\n",
       "WindDir3pm        object\n",
       "WindSpeed9am     float64\n",
       "WindSpeed3pm     float64\n",
       "Humidity9am      float64\n",
       "Humidity3pm      float64\n",
       "Pressure9am      float64\n",
       "Pressure3pm      float64\n",
       "Cloud9am         float64\n",
       "Cloud3pm         float64\n",
       "Temp9am          float64\n",
       "Temp3pm          float64\n",
       "RainToday         object\n",
       "RainTomorrow      object\n",
       "dtype: object"
      ]
     },
     "execution_count": 5,
     "metadata": {},
     "output_type": "execute_result"
    }
   ],
   "source": [
    "# List features and their types\n",
    "df_all.dtypes"
   ]
  },
  {
   "cell_type": "code",
   "execution_count": 6,
   "id": "c04924bf",
   "metadata": {},
   "outputs": [
    {
     "data": {
      "text/plain": [
       "Canberra            3436\n",
       "Sydney              3344\n",
       "Darwin              3193\n",
       "Melbourne           3193\n",
       "Brisbane            3193\n",
       "Adelaide            3193\n",
       "Perth               3193\n",
       "Hobart              3193\n",
       "Albany              3040\n",
       "MountGambier        3040\n",
       "Ballarat            3040\n",
       "Townsville          3040\n",
       "GoldCoast           3040\n",
       "Cairns              3040\n",
       "Launceston          3040\n",
       "AliceSprings        3040\n",
       "Bendigo             3040\n",
       "Albury              3040\n",
       "MountGinini         3040\n",
       "Wollongong          3040\n",
       "Newcastle           3039\n",
       "Tuggeranong         3039\n",
       "Penrith             3039\n",
       "Woomera             3009\n",
       "Nuriootpa           3009\n",
       "Cobar               3009\n",
       "CoffsHarbour        3009\n",
       "Moree               3009\n",
       "Sale                3009\n",
       "PerthAirport        3009\n",
       "PearceRAAF          3009\n",
       "Witchcliffe         3009\n",
       "BadgerysCreek       3009\n",
       "Mildura             3009\n",
       "NorfolkIsland       3009\n",
       "MelbourneAirport    3009\n",
       "Richmond            3009\n",
       "SydneyAirport       3009\n",
       "WaggaWagga          3009\n",
       "Williamtown         3009\n",
       "Dartmoor            3009\n",
       "Watsonia            3009\n",
       "Portland            3009\n",
       "Walpole             3006\n",
       "NorahHead           3004\n",
       "SalmonGums          3001\n",
       "Katherine           1578\n",
       "Nhil                1578\n",
       "Uluru               1578\n",
       "Name: Location, dtype: int64"
      ]
     },
     "execution_count": 6,
     "metadata": {},
     "output_type": "execute_result"
    }
   ],
   "source": [
    "# Number of observations from each city\n",
    "df_all['Location'].value_counts()"
   ]
  },
  {
   "cell_type": "code",
   "execution_count": 7,
   "id": "04267537",
   "metadata": {},
   "outputs": [
    {
     "name": "stdout",
     "output_type": "stream",
     "text": [
      "Total Number of observations from Sydney: 3344\n"
     ]
    },
    {
     "data": {
      "text/html": [
       "<div>\n",
       "<style scoped>\n",
       "    .dataframe tbody tr th:only-of-type {\n",
       "        vertical-align: middle;\n",
       "    }\n",
       "\n",
       "    .dataframe tbody tr th {\n",
       "        vertical-align: top;\n",
       "    }\n",
       "\n",
       "    .dataframe thead th {\n",
       "        text-align: right;\n",
       "    }\n",
       "</style>\n",
       "<table border=\"1\" class=\"dataframe\">\n",
       "  <thead>\n",
       "    <tr style=\"text-align: right;\">\n",
       "      <th></th>\n",
       "      <th>Date</th>\n",
       "      <th>Location</th>\n",
       "      <th>MinTemp</th>\n",
       "      <th>MaxTemp</th>\n",
       "      <th>Rainfall</th>\n",
       "      <th>Evaporation</th>\n",
       "      <th>Sunshine</th>\n",
       "      <th>WindGustDir</th>\n",
       "      <th>WindGustSpeed</th>\n",
       "      <th>WindDir9am</th>\n",
       "      <th>...</th>\n",
       "      <th>Humidity9am</th>\n",
       "      <th>Humidity3pm</th>\n",
       "      <th>Pressure9am</th>\n",
       "      <th>Pressure3pm</th>\n",
       "      <th>Cloud9am</th>\n",
       "      <th>Cloud3pm</th>\n",
       "      <th>Temp9am</th>\n",
       "      <th>Temp3pm</th>\n",
       "      <th>RainToday</th>\n",
       "      <th>RainTomorrow</th>\n",
       "    </tr>\n",
       "  </thead>\n",
       "  <tbody>\n",
       "    <tr>\n",
       "      <th>30176</th>\n",
       "      <td>2008-02-01</td>\n",
       "      <td>Sydney</td>\n",
       "      <td>19.5</td>\n",
       "      <td>22.4</td>\n",
       "      <td>15.6</td>\n",
       "      <td>6.2</td>\n",
       "      <td>0.0</td>\n",
       "      <td>NaN</td>\n",
       "      <td>NaN</td>\n",
       "      <td>S</td>\n",
       "      <td>...</td>\n",
       "      <td>92.0</td>\n",
       "      <td>84.0</td>\n",
       "      <td>1017.6</td>\n",
       "      <td>1017.4</td>\n",
       "      <td>8.0</td>\n",
       "      <td>8.0</td>\n",
       "      <td>20.7</td>\n",
       "      <td>20.9</td>\n",
       "      <td>Yes</td>\n",
       "      <td>Yes</td>\n",
       "    </tr>\n",
       "    <tr>\n",
       "      <th>30177</th>\n",
       "      <td>2008-02-02</td>\n",
       "      <td>Sydney</td>\n",
       "      <td>19.5</td>\n",
       "      <td>25.6</td>\n",
       "      <td>6.0</td>\n",
       "      <td>3.4</td>\n",
       "      <td>2.7</td>\n",
       "      <td>NaN</td>\n",
       "      <td>NaN</td>\n",
       "      <td>W</td>\n",
       "      <td>...</td>\n",
       "      <td>83.0</td>\n",
       "      <td>73.0</td>\n",
       "      <td>1017.9</td>\n",
       "      <td>1016.4</td>\n",
       "      <td>7.0</td>\n",
       "      <td>7.0</td>\n",
       "      <td>22.4</td>\n",
       "      <td>24.8</td>\n",
       "      <td>Yes</td>\n",
       "      <td>Yes</td>\n",
       "    </tr>\n",
       "    <tr>\n",
       "      <th>30178</th>\n",
       "      <td>2008-02-03</td>\n",
       "      <td>Sydney</td>\n",
       "      <td>21.6</td>\n",
       "      <td>24.5</td>\n",
       "      <td>6.6</td>\n",
       "      <td>2.4</td>\n",
       "      <td>0.1</td>\n",
       "      <td>NaN</td>\n",
       "      <td>NaN</td>\n",
       "      <td>ESE</td>\n",
       "      <td>...</td>\n",
       "      <td>88.0</td>\n",
       "      <td>86.0</td>\n",
       "      <td>1016.7</td>\n",
       "      <td>1015.6</td>\n",
       "      <td>7.0</td>\n",
       "      <td>8.0</td>\n",
       "      <td>23.5</td>\n",
       "      <td>23.0</td>\n",
       "      <td>Yes</td>\n",
       "      <td>Yes</td>\n",
       "    </tr>\n",
       "    <tr>\n",
       "      <th>30179</th>\n",
       "      <td>2008-02-04</td>\n",
       "      <td>Sydney</td>\n",
       "      <td>20.2</td>\n",
       "      <td>22.8</td>\n",
       "      <td>18.8</td>\n",
       "      <td>2.2</td>\n",
       "      <td>0.0</td>\n",
       "      <td>NaN</td>\n",
       "      <td>NaN</td>\n",
       "      <td>NNE</td>\n",
       "      <td>...</td>\n",
       "      <td>83.0</td>\n",
       "      <td>90.0</td>\n",
       "      <td>1014.2</td>\n",
       "      <td>1011.8</td>\n",
       "      <td>8.0</td>\n",
       "      <td>8.0</td>\n",
       "      <td>21.4</td>\n",
       "      <td>20.9</td>\n",
       "      <td>Yes</td>\n",
       "      <td>Yes</td>\n",
       "    </tr>\n",
       "    <tr>\n",
       "      <th>30180</th>\n",
       "      <td>2008-02-05</td>\n",
       "      <td>Sydney</td>\n",
       "      <td>19.7</td>\n",
       "      <td>25.7</td>\n",
       "      <td>77.4</td>\n",
       "      <td>NaN</td>\n",
       "      <td>0.0</td>\n",
       "      <td>NaN</td>\n",
       "      <td>NaN</td>\n",
       "      <td>NNE</td>\n",
       "      <td>...</td>\n",
       "      <td>88.0</td>\n",
       "      <td>74.0</td>\n",
       "      <td>1008.3</td>\n",
       "      <td>1004.8</td>\n",
       "      <td>8.0</td>\n",
       "      <td>8.0</td>\n",
       "      <td>22.5</td>\n",
       "      <td>25.5</td>\n",
       "      <td>Yes</td>\n",
       "      <td>Yes</td>\n",
       "    </tr>\n",
       "  </tbody>\n",
       "</table>\n",
       "<p>5 rows × 23 columns</p>\n",
       "</div>"
      ],
      "text/plain": [
       "             Date Location  MinTemp  MaxTemp  Rainfall  Evaporation  Sunshine  \\\n",
       "30176  2008-02-01   Sydney     19.5     22.4      15.6          6.2       0.0   \n",
       "30177  2008-02-02   Sydney     19.5     25.6       6.0          3.4       2.7   \n",
       "30178  2008-02-03   Sydney     21.6     24.5       6.6          2.4       0.1   \n",
       "30179  2008-02-04   Sydney     20.2     22.8      18.8          2.2       0.0   \n",
       "30180  2008-02-05   Sydney     19.7     25.7      77.4          NaN       0.0   \n",
       "\n",
       "      WindGustDir  WindGustSpeed WindDir9am  ... Humidity9am  Humidity3pm  \\\n",
       "30176         NaN            NaN          S  ...        92.0         84.0   \n",
       "30177         NaN            NaN          W  ...        83.0         73.0   \n",
       "30178         NaN            NaN        ESE  ...        88.0         86.0   \n",
       "30179         NaN            NaN        NNE  ...        83.0         90.0   \n",
       "30180         NaN            NaN        NNE  ...        88.0         74.0   \n",
       "\n",
       "       Pressure9am  Pressure3pm  Cloud9am  Cloud3pm  Temp9am  Temp3pm  \\\n",
       "30176       1017.6       1017.4       8.0       8.0     20.7     20.9   \n",
       "30177       1017.9       1016.4       7.0       7.0     22.4     24.8   \n",
       "30178       1016.7       1015.6       7.0       8.0     23.5     23.0   \n",
       "30179       1014.2       1011.8       8.0       8.0     21.4     20.9   \n",
       "30180       1008.3       1004.8       8.0       8.0     22.5     25.5   \n",
       "\n",
       "       RainToday  RainTomorrow  \n",
       "30176        Yes           Yes  \n",
       "30177        Yes           Yes  \n",
       "30178        Yes           Yes  \n",
       "30179        Yes           Yes  \n",
       "30180        Yes           Yes  \n",
       "\n",
       "[5 rows x 23 columns]"
      ]
     },
     "execution_count": 7,
     "metadata": {},
     "output_type": "execute_result"
    }
   ],
   "source": [
    "# Take only the rows from Sydney\n",
    "df = df_all.loc[df_all['Location']=='Sydney']\n",
    "#df_syd[['month']] = df_syd.Date.dt.month\n",
    "print(f\"Total Number of observations from Sydney: {len(df.index)}\")\n",
    "df.head()"
   ]
  },
  {
   "cell_type": "code",
   "execution_count": 8,
   "id": "3099ba18",
   "metadata": {},
   "outputs": [
    {
     "name": "stdout",
     "output_type": "stream",
     "text": [
      "2017-06-25 2008-02-01\n"
     ]
    }
   ],
   "source": [
    "print(df['Date'].max(), df['Date'].min())"
   ]
  },
  {
   "cell_type": "code",
   "execution_count": 9,
   "id": "a05bfba6",
   "metadata": {},
   "outputs": [
    {
     "name": "stdout",
     "output_type": "stream",
     "text": [
      "Percentage of Rainy Days: 1.0\n"
     ]
    }
   ],
   "source": [
    "percentage_of_rainy_days = np.count_nonzero(df['RainTomorrow'])/len(df)\n",
    "print(f\"Percentage of Rainy Days: {percentage_of_rainy_days:.3}\")"
   ]
  },
  {
   "cell_type": "markdown",
   "id": "7e68c03a",
   "metadata": {},
   "source": [
    "## III. Data Cleaning"
   ]
  },
  {
   "cell_type": "markdown",
   "id": "5233bbae",
   "metadata": {},
   "source": [
    "After looking at the dtypes of the dataframe, I first noticed that the date was an object, so I converted that to a datetime object. I didn't feel that a specific date would do much good in model, but weather patterns have extreme variations based on time of year, so I extracted just the month, and created a new column for it. "
   ]
  },
  {
   "cell_type": "code",
   "execution_count": 10,
   "id": "9e133cf2",
   "metadata": {},
   "outputs": [
    {
     "data": {
      "text/plain": [
       "Date              object\n",
       "Location          object\n",
       "MinTemp          float64\n",
       "MaxTemp          float64\n",
       "Rainfall         float64\n",
       "Evaporation      float64\n",
       "Sunshine         float64\n",
       "WindGustDir       object\n",
       "WindGustSpeed    float64\n",
       "WindDir9am        object\n",
       "WindDir3pm        object\n",
       "WindSpeed9am     float64\n",
       "WindSpeed3pm     float64\n",
       "Humidity9am      float64\n",
       "Humidity3pm      float64\n",
       "Pressure9am      float64\n",
       "Pressure3pm      float64\n",
       "Cloud9am         float64\n",
       "Cloud3pm         float64\n",
       "Temp9am          float64\n",
       "Temp3pm          float64\n",
       "RainToday         object\n",
       "RainTomorrow      object\n",
       "dtype: object"
      ]
     },
     "execution_count": 10,
     "metadata": {},
     "output_type": "execute_result"
    }
   ],
   "source": [
    "df.dtypes"
   ]
  },
  {
   "cell_type": "code",
   "execution_count": 11,
   "id": "7170ee14",
   "metadata": {},
   "outputs": [
    {
     "data": {
      "text/plain": [
       "Date             datetime64[ns]\n",
       "Location                 object\n",
       "MinTemp                 float64\n",
       "MaxTemp                 float64\n",
       "Rainfall                float64\n",
       "Evaporation             float64\n",
       "Sunshine                float64\n",
       "WindGustDir              object\n",
       "WindGustSpeed           float64\n",
       "WindDir9am               object\n",
       "WindDir3pm               object\n",
       "WindSpeed9am            float64\n",
       "WindSpeed3pm            float64\n",
       "Humidity9am             float64\n",
       "Humidity3pm             float64\n",
       "Pressure9am             float64\n",
       "Pressure3pm             float64\n",
       "Cloud9am                float64\n",
       "Cloud3pm                float64\n",
       "Temp9am                 float64\n",
       "Temp3pm                 float64\n",
       "RainToday                object\n",
       "RainTomorrow             object\n",
       "dtype: object"
      ]
     },
     "execution_count": 11,
     "metadata": {},
     "output_type": "execute_result"
    }
   ],
   "source": [
    "# Convert date column to a datetime object\n",
    "pd.to_datetime(df['Date'])\n",
    "df = df.astype({'Date':'datetime64'})\n",
    "df.dtypes"
   ]
  },
  {
   "cell_type": "code",
   "execution_count": 12,
   "id": "54424d20",
   "metadata": {},
   "outputs": [],
   "source": [
    "# Add a month column\n",
    "df['month'] = df.Date.dt.month\n"
   ]
  },
  {
   "cell_type": "markdown",
   "id": "51add36c",
   "metadata": {},
   "source": [
    "The next step I accomplished was for the 'RainToday' and 'RainTomorrow' features, I converted the yes values to 1 and the no values to 0."
   ]
  },
  {
   "cell_type": "code",
   "execution_count": 13,
   "id": "65f70871",
   "metadata": {},
   "outputs": [],
   "source": [
    "# Convert the boolean, yes/no columns into 1s and 0s\n",
    "df.loc[df['RainToday']=='Yes', 'RainToday'] = 1\n",
    "df.loc[df['RainToday']=='No', 'RainToday'] = 0\n",
    "df.loc[df['RainTomorrow']=='Yes', 'RainTomorrow'] = 1\n",
    "df.loc[df['RainTomorrow']=='No', 'RainTomorrow'] = 0\n",
    "\n",
    "# Make the columns numeric\n",
    "df[['RainToday', 'RainTomorrow']] = df[['RainToday', 'RainTomorrow']].apply(pd.to_numeric)"
   ]
  },
  {
   "cell_type": "markdown",
   "id": "5fbf8546",
   "metadata": {},
   "source": [
    "once that was done, the next part I undertook in the data cleaning process was to look at null values of the data. The first thing I noticed is that there were null values in the \"RainTomorrow\" feature. Since that is what we are going to create our predictive models from, I just deleted the rows with null values in that feature.\n",
    "\n",
    "For all of the other features, except 'Clouds9am', 'Clouds3pm', 'WindGustDir' and 'WindGustSpeed', I decided to take the median value of that feature for that month, since weather patterns do change from month to month, I felt that taking the median from the month would give me a more accurate replacement value.\n",
    "\n",
    "The wind gust and wind speeds, were a different challenge. There made up a substantial amount of rows, so I was trying to decide whether I should just delete both columns. However, I looked at the minimum value of \"gust speed\" and it was 17. This caused me to do some more research about how wind gusts are classified. I couldn't find a specific answer for the Australian Bureau of Meteorology, but I did find a definition from the [National Weather Service](https://graphical.weather.gov/definitions/defineWindGust.html), in the United States. that listed 16 knots as the minimum for a gust, pl. 17 Km/h is about 10 knots. Because of this information, I decided to treat the null gust values, as a zero, instead of dropping the feature all together. I did this because it would appear in this data, the days where there aren't gusts, are not recorded at all, and appear as a null value. \n",
    "\n",
    "Lastly, I had to deal with the values of cloud cover. These data points felt important to me since we are trying to predict rain, and clouds are and important part of rain. That is a measurement that is taken in eights of the sky covered. Since the dataset shows a min of zero and a max of 8, I decided not to treat this like the wind gusts, because it did appear that they did record both clear days, and overcast days. Because of the importance I placed on this feature, I decided to just delete all of the rows that contained null values for clouds. \n",
    "\n",
    "Once this was done, the only null values remaining were for 'WindGustDir', and I left them, so they would become their own category, when I changed the categorical values to numerical values. "
   ]
  },
  {
   "cell_type": "code",
   "execution_count": null,
   "id": "0e7adf20",
   "metadata": {},
   "outputs": [],
   "source": []
  },
  {
   "cell_type": "code",
   "execution_count": 14,
   "id": "f89e91f5",
   "metadata": {},
   "outputs": [
    {
     "data": {
      "text/plain": [
       "Date                0\n",
       "Location            0\n",
       "MinTemp             4\n",
       "MaxTemp             2\n",
       "Rainfall            7\n",
       "Evaporation        51\n",
       "Sunshine           16\n",
       "WindGustDir      1038\n",
       "WindGustSpeed    1038\n",
       "WindDir9am         56\n",
       "WindDir3pm         33\n",
       "WindSpeed9am       26\n",
       "WindSpeed3pm       25\n",
       "Humidity9am        15\n",
       "Humidity3pm        13\n",
       "Pressure9am        21\n",
       "Pressure3pm        19\n",
       "Cloud9am          568\n",
       "Cloud3pm          563\n",
       "Temp9am             5\n",
       "Temp3pm             4\n",
       "RainToday           7\n",
       "RainTomorrow        7\n",
       "month               0\n",
       "dtype: int64"
      ]
     },
     "execution_count": 14,
     "metadata": {},
     "output_type": "execute_result"
    }
   ],
   "source": [
    "df.isnull().sum()"
   ]
  },
  {
   "cell_type": "code",
   "execution_count": 15,
   "id": "455eaaf9",
   "metadata": {},
   "outputs": [
    {
     "name": "stdout",
     "output_type": "stream",
     "text": [
      "Observations remaining: 2705\n"
     ]
    },
    {
     "data": {
      "text/plain": [
       "Date               0\n",
       "Location           0\n",
       "MinTemp            0\n",
       "MaxTemp            0\n",
       "Rainfall           0\n",
       "Evaporation        0\n",
       "Sunshine           0\n",
       "WindGustDir      959\n",
       "WindGustSpeed      0\n",
       "WindDir9am         0\n",
       "WindDir3pm         0\n",
       "WindSpeed9am       0\n",
       "WindSpeed3pm       0\n",
       "Humidity9am        0\n",
       "Humidity3pm        0\n",
       "Pressure9am        0\n",
       "Pressure3pm        0\n",
       "Cloud9am           0\n",
       "Cloud3pm           0\n",
       "Temp9am            0\n",
       "Temp3pm            0\n",
       "RainToday          0\n",
       "RainTomorrow       0\n",
       "month              0\n",
       "dtype: int64"
      ]
     },
     "execution_count": 15,
     "metadata": {},
     "output_type": "execute_result"
    }
   ],
   "source": [
    "# Drop rows with NA Values\n",
    "\n",
    "#Drop RainTomorrow, since it is supposed to be truth\n",
    "df.dropna(subset = 'RainTomorrow', inplace = True)\n",
    "\n",
    "df.dropna(subset = 'WindDir9am', inplace = True)\n",
    "df.dropna(subset = 'WindDir3pm', inplace = True)\n",
    "df.dropna(subset = 'Cloud9am', inplace = True)\n",
    "df.dropna(subset = 'Cloud3pm', inplace = True)\n",
    "\n",
    "# The minnimum for gusts is 17. The NWS in the US only records gusts above 16 knots.\n",
    "# Because of that, I am assuming null values, had no wind gusts above that threshold, so I am replacing them with 0.\n",
    "df['WindGustSpeed'].fillna(0, inplace = True)\n",
    "\n",
    "# Select coulumns to take the median of for NA values. I took the median of the values, grouped by month, since the\n",
    "# median and means would change drastically through the year\n",
    "colunms_to_median = ['MinTemp', 'MaxTemp', 'Rainfall', 'Evaporation','Sunshine','Humidity9am', 'Humidity3pm',\n",
    "       'Pressure9am', 'Pressure3pm','Temp9am', 'Temp3pm', 'RainToday']\n",
    "for col in colunms_to_median:\n",
    "    df[col].fillna(df.groupby(['month'])[col].transform('median'), inplace = True)\n",
    "\n",
    "print(f\"Observations remaining: {len(df)}\")\n",
    "df.isnull().sum()\n"
   ]
  },
  {
   "cell_type": "markdown",
   "id": "d938cf0e",
   "metadata": {},
   "source": [
    "I then converted the categorical variables to numbers, so that each different category would be have a different number. This included the null values for WindGustDir."
   ]
  },
  {
   "cell_type": "code",
   "execution_count": 16,
   "id": "593f31e0",
   "metadata": {},
   "outputs": [],
   "source": [
    "# Chaingning the catagorical features to numbers. \n",
    "df['WindDir9am'] = df['WindDir9am'].astype('category').cat.codes\n",
    "df['WindDir3pm'] = df['WindDir3pm'].astype('category').cat.codes\n",
    "\n",
    "# Chaning WindGustDir to catagories also makes the null values equal to zero, which is expected\n",
    "df['WindGustDir'] = df['WindGustDir'].astype('category').cat.codes"
   ]
  },
  {
   "cell_type": "code",
   "execution_count": 17,
   "id": "6c032a34",
   "metadata": {},
   "outputs": [
    {
     "data": {
      "text/plain": [
       "Date             datetime64[ns]\n",
       "Location                 object\n",
       "MinTemp                 float64\n",
       "MaxTemp                 float64\n",
       "Rainfall                float64\n",
       "Evaporation             float64\n",
       "Sunshine                float64\n",
       "WindGustDir                int8\n",
       "WindGustSpeed           float64\n",
       "WindDir9am                 int8\n",
       "WindDir3pm                 int8\n",
       "WindSpeed9am            float64\n",
       "WindSpeed3pm            float64\n",
       "Humidity9am             float64\n",
       "Humidity3pm             float64\n",
       "Pressure9am             float64\n",
       "Pressure3pm             float64\n",
       "Cloud9am                float64\n",
       "Cloud3pm                float64\n",
       "Temp9am                 float64\n",
       "Temp3pm                 float64\n",
       "RainToday               float64\n",
       "RainTomorrow            float64\n",
       "month                     int64\n",
       "dtype: object"
      ]
     },
     "execution_count": 17,
     "metadata": {},
     "output_type": "execute_result"
    }
   ],
   "source": [
    "df.dtypes"
   ]
  },
  {
   "cell_type": "markdown",
   "id": "6cd2a5a4",
   "metadata": {},
   "source": [
    "The last step that I took was to remove the date and location features. As previously discussed, since I was only using data from Sydney, that field was now superfluous. As for the date, I had already extracted the value that I needed from it, so the date in its present format would not help in the modeling process."
   ]
  },
  {
   "cell_type": "code",
   "execution_count": 18,
   "id": "d960069c",
   "metadata": {},
   "outputs": [
    {
     "data": {
      "text/html": [
       "<div>\n",
       "<style scoped>\n",
       "    .dataframe tbody tr th:only-of-type {\n",
       "        vertical-align: middle;\n",
       "    }\n",
       "\n",
       "    .dataframe tbody tr th {\n",
       "        vertical-align: top;\n",
       "    }\n",
       "\n",
       "    .dataframe thead th {\n",
       "        text-align: right;\n",
       "    }\n",
       "</style>\n",
       "<table border=\"1\" class=\"dataframe\">\n",
       "  <thead>\n",
       "    <tr style=\"text-align: right;\">\n",
       "      <th></th>\n",
       "      <th>MinTemp</th>\n",
       "      <th>MaxTemp</th>\n",
       "      <th>Rainfall</th>\n",
       "      <th>Evaporation</th>\n",
       "      <th>Sunshine</th>\n",
       "      <th>WindGustDir</th>\n",
       "      <th>WindGustSpeed</th>\n",
       "      <th>WindDir9am</th>\n",
       "      <th>WindDir3pm</th>\n",
       "      <th>WindSpeed9am</th>\n",
       "      <th>...</th>\n",
       "      <th>Humidity3pm</th>\n",
       "      <th>Pressure9am</th>\n",
       "      <th>Pressure3pm</th>\n",
       "      <th>Cloud9am</th>\n",
       "      <th>Cloud3pm</th>\n",
       "      <th>Temp9am</th>\n",
       "      <th>Temp3pm</th>\n",
       "      <th>RainToday</th>\n",
       "      <th>RainTomorrow</th>\n",
       "      <th>month</th>\n",
       "    </tr>\n",
       "  </thead>\n",
       "  <tbody>\n",
       "    <tr>\n",
       "      <th>30176</th>\n",
       "      <td>19.5</td>\n",
       "      <td>22.4</td>\n",
       "      <td>15.6</td>\n",
       "      <td>6.2</td>\n",
       "      <td>0.0</td>\n",
       "      <td>-1</td>\n",
       "      <td>0.0</td>\n",
       "      <td>8</td>\n",
       "      <td>11</td>\n",
       "      <td>17.0</td>\n",
       "      <td>...</td>\n",
       "      <td>84.0</td>\n",
       "      <td>1017.6</td>\n",
       "      <td>1017.4</td>\n",
       "      <td>8.0</td>\n",
       "      <td>8.0</td>\n",
       "      <td>20.7</td>\n",
       "      <td>20.9</td>\n",
       "      <td>1.0</td>\n",
       "      <td>1.0</td>\n",
       "      <td>2</td>\n",
       "    </tr>\n",
       "    <tr>\n",
       "      <th>30177</th>\n",
       "      <td>19.5</td>\n",
       "      <td>25.6</td>\n",
       "      <td>6.0</td>\n",
       "      <td>3.4</td>\n",
       "      <td>2.7</td>\n",
       "      <td>-1</td>\n",
       "      <td>0.0</td>\n",
       "      <td>13</td>\n",
       "      <td>0</td>\n",
       "      <td>9.0</td>\n",
       "      <td>...</td>\n",
       "      <td>73.0</td>\n",
       "      <td>1017.9</td>\n",
       "      <td>1016.4</td>\n",
       "      <td>7.0</td>\n",
       "      <td>7.0</td>\n",
       "      <td>22.4</td>\n",
       "      <td>24.8</td>\n",
       "      <td>1.0</td>\n",
       "      <td>1.0</td>\n",
       "      <td>2</td>\n",
       "    </tr>\n",
       "    <tr>\n",
       "      <th>30178</th>\n",
       "      <td>21.6</td>\n",
       "      <td>24.5</td>\n",
       "      <td>6.6</td>\n",
       "      <td>2.4</td>\n",
       "      <td>0.1</td>\n",
       "      <td>-1</td>\n",
       "      <td>0.0</td>\n",
       "      <td>2</td>\n",
       "      <td>2</td>\n",
       "      <td>17.0</td>\n",
       "      <td>...</td>\n",
       "      <td>86.0</td>\n",
       "      <td>1016.7</td>\n",
       "      <td>1015.6</td>\n",
       "      <td>7.0</td>\n",
       "      <td>8.0</td>\n",
       "      <td>23.5</td>\n",
       "      <td>23.0</td>\n",
       "      <td>1.0</td>\n",
       "      <td>1.0</td>\n",
       "      <td>2</td>\n",
       "    </tr>\n",
       "    <tr>\n",
       "      <th>30179</th>\n",
       "      <td>20.2</td>\n",
       "      <td>22.8</td>\n",
       "      <td>18.8</td>\n",
       "      <td>2.2</td>\n",
       "      <td>0.0</td>\n",
       "      <td>-1</td>\n",
       "      <td>0.0</td>\n",
       "      <td>5</td>\n",
       "      <td>0</td>\n",
       "      <td>22.0</td>\n",
       "      <td>...</td>\n",
       "      <td>90.0</td>\n",
       "      <td>1014.2</td>\n",
       "      <td>1011.8</td>\n",
       "      <td>8.0</td>\n",
       "      <td>8.0</td>\n",
       "      <td>21.4</td>\n",
       "      <td>20.9</td>\n",
       "      <td>1.0</td>\n",
       "      <td>1.0</td>\n",
       "      <td>2</td>\n",
       "    </tr>\n",
       "    <tr>\n",
       "      <th>30180</th>\n",
       "      <td>19.7</td>\n",
       "      <td>25.7</td>\n",
       "      <td>77.4</td>\n",
       "      <td>6.8</td>\n",
       "      <td>0.0</td>\n",
       "      <td>-1</td>\n",
       "      <td>0.0</td>\n",
       "      <td>5</td>\n",
       "      <td>13</td>\n",
       "      <td>11.0</td>\n",
       "      <td>...</td>\n",
       "      <td>74.0</td>\n",
       "      <td>1008.3</td>\n",
       "      <td>1004.8</td>\n",
       "      <td>8.0</td>\n",
       "      <td>8.0</td>\n",
       "      <td>22.5</td>\n",
       "      <td>25.5</td>\n",
       "      <td>1.0</td>\n",
       "      <td>1.0</td>\n",
       "      <td>2</td>\n",
       "    </tr>\n",
       "  </tbody>\n",
       "</table>\n",
       "<p>5 rows × 22 columns</p>\n",
       "</div>"
      ],
      "text/plain": [
       "       MinTemp  MaxTemp  Rainfall  Evaporation  Sunshine  WindGustDir  \\\n",
       "30176     19.5     22.4      15.6          6.2       0.0           -1   \n",
       "30177     19.5     25.6       6.0          3.4       2.7           -1   \n",
       "30178     21.6     24.5       6.6          2.4       0.1           -1   \n",
       "30179     20.2     22.8      18.8          2.2       0.0           -1   \n",
       "30180     19.7     25.7      77.4          6.8       0.0           -1   \n",
       "\n",
       "       WindGustSpeed  WindDir9am  WindDir3pm  WindSpeed9am  ...  Humidity3pm  \\\n",
       "30176            0.0           8          11          17.0  ...         84.0   \n",
       "30177            0.0          13           0           9.0  ...         73.0   \n",
       "30178            0.0           2           2          17.0  ...         86.0   \n",
       "30179            0.0           5           0          22.0  ...         90.0   \n",
       "30180            0.0           5          13          11.0  ...         74.0   \n",
       "\n",
       "       Pressure9am  Pressure3pm  Cloud9am  Cloud3pm  Temp9am  Temp3pm  \\\n",
       "30176       1017.6       1017.4       8.0       8.0     20.7     20.9   \n",
       "30177       1017.9       1016.4       7.0       7.0     22.4     24.8   \n",
       "30178       1016.7       1015.6       7.0       8.0     23.5     23.0   \n",
       "30179       1014.2       1011.8       8.0       8.0     21.4     20.9   \n",
       "30180       1008.3       1004.8       8.0       8.0     22.5     25.5   \n",
       "\n",
       "       RainToday  RainTomorrow  month  \n",
       "30176        1.0           1.0      2  \n",
       "30177        1.0           1.0      2  \n",
       "30178        1.0           1.0      2  \n",
       "30179        1.0           1.0      2  \n",
       "30180        1.0           1.0      2  \n",
       "\n",
       "[5 rows x 22 columns]"
      ]
     },
     "execution_count": 18,
     "metadata": {},
     "output_type": "execute_result"
    }
   ],
   "source": [
    "# Drops 'Date' and 'Location' because they will not help the machine learning modeling\n",
    "df.drop(['Date', 'Location'], axis = 1, inplace = True)\n",
    "df.head()"
   ]
  },
  {
   "cell_type": "markdown",
   "id": "5dc13d42",
   "metadata": {},
   "source": [
    "## IV. Exploratory Data Analysis"
   ]
  },
  {
   "cell_type": "markdown",
   "id": "3aecf6e3",
   "metadata": {},
   "source": [
    "The first thing that I did was look at the summary values of the different rows. I looked for any values that didn't seem to make sense, especially for the max and min values. I was looking for outliers that might need to be \n",
    "addressed in the data. The data seemed reasonable from this perspective. There were certainly some really hot days, or really windy days, but nothing that didn't seem possible. \n",
    "\n",
    "Looking at the box plots, rainfall showed significant outliers, but that makes sense in a region where most days it does not rain at all.\n",
    "\n",
    "Also, looking at the histograms, there didn't seem to be any strange outliers, or distributions that didn't make sense for the data. "
   ]
  },
  {
   "cell_type": "code",
   "execution_count": 19,
   "id": "df6ec1a5",
   "metadata": {},
   "outputs": [
    {
     "name": "stdout",
     "output_type": "stream",
     "text": [
      "           MinTemp      MaxTemp     Rainfall  Evaporation     Sunshine  \\\n",
      "count  2705.000000  2705.000000  2705.000000  2705.000000  2705.000000   \n",
      "mean     14.772052    23.018743     3.205989     5.213974     7.294584   \n",
      "std       4.546462     4.515104     9.544302     2.788708     3.760587   \n",
      "min       4.300000    11.700000     0.000000     0.000000     0.000000   \n",
      "25%      11.000000    19.600000     0.000000     3.200000     4.500000   \n",
      "50%      14.800000    22.800000     0.000000     4.800000     8.400000   \n",
      "75%      18.700000    26.000000     1.200000     7.000000    10.200000   \n",
      "max      27.100000    45.800000   119.400000    18.400000    13.600000   \n",
      "\n",
      "       WindGustDir  WindGustSpeed   WindDir9am   WindDir3pm  WindSpeed9am  \\\n",
      "count  2705.000000    2705.000000  2705.000000  2705.000000   2705.000000   \n",
      "mean      4.876155      27.027357    10.223290     5.925693     15.112015   \n",
      "std       5.788733      22.570370     4.404775     4.998153      6.914125   \n",
      "min      -1.000000       0.000000     0.000000     0.000000      2.000000   \n",
      "25%      -1.000000       0.000000     8.000000     1.000000     11.000000   \n",
      "50%       4.000000      31.000000    13.000000     4.000000     15.000000   \n",
      "75%      10.000000      44.000000    13.000000    10.000000     20.000000   \n",
      "max      15.000000      96.000000    15.000000    15.000000     54.000000   \n",
      "\n",
      "       WindSpeed3pm  Humidity9am  Humidity3pm  Pressure9am  Pressure3pm  \\\n",
      "count   2705.000000  2705.000000  2705.000000  2705.000000  2705.000000   \n",
      "mean      19.322366    67.612939    53.984473  1018.453309  1016.069979   \n",
      "std        7.409985    15.271722    16.282516     6.984624     7.019000   \n",
      "min        2.000000    19.000000    10.000000   986.700000   990.300000   \n",
      "25%       15.000000    58.000000    43.000000  1013.900000  1011.300000   \n",
      "50%       19.000000    68.000000    55.000000  1018.700000  1016.400000   \n",
      "75%       24.000000    79.000000    64.000000  1023.200000  1020.900000   \n",
      "max       57.000000   100.000000    96.000000  1039.000000  1036.000000   \n",
      "\n",
      "          Cloud9am     Cloud3pm      Temp9am      Temp3pm    RainToday  \\\n",
      "count  2705.000000  2705.000000  2705.000000  2705.000000  2705.000000   \n",
      "mean      4.159704     4.205545    17.767930    21.548688     0.255453   \n",
      "std       2.751076     2.642655     4.909296     4.305569     0.436196   \n",
      "min       0.000000     0.000000     6.400000    10.200000     0.000000   \n",
      "25%       1.000000     1.000000    13.800000    18.400000     0.000000   \n",
      "50%       4.000000     4.000000    18.000000    21.300000     0.000000   \n",
      "75%       7.000000     7.000000    21.700000    24.500000     1.000000   \n",
      "max       9.000000     8.000000    36.500000    44.700000     1.000000   \n",
      "\n",
      "       RainTomorrow        month  \n",
      "count   2705.000000  2705.000000  \n",
      "mean       0.252865     6.498706  \n",
      "std        0.434735     3.354667  \n",
      "min        0.000000     1.000000  \n",
      "25%        0.000000     4.000000  \n",
      "50%        0.000000     7.000000  \n",
      "75%        1.000000     9.000000  \n",
      "max        1.000000    12.000000  \n"
     ]
    }
   ],
   "source": [
    "with pd.option_context('display.max_columns', 40):\n",
    "    print(df.describe(include='all'))"
   ]
  },
  {
   "cell_type": "code",
   "execution_count": 20,
   "id": "6d419144",
   "metadata": {
    "scrolled": false
   },
   "outputs": [
    {
     "data": {
      "text/plain": [
       "<AxesSubplot:>"
      ]
     },
     "execution_count": 20,
     "metadata": {},
     "output_type": "execute_result"
    },
    {
     "data": {
      "image/png": "[encoded data removed]",
      "text/plain": [
       "<Figure size 1440x576 with 1 Axes>"
      ]
     },
     "metadata": {
      "needs_background": "light"
     },
     "output_type": "display_data"
    }
   ],
   "source": [
    "plt.rcParams[\"figure.figsize\"] = (20,8)\n",
    "box_plot_columns = df.columns.tolist()\n",
    "box_plot_columns.remove('Pressure9am')\n",
    "box_plot_columns.remove('Pressure3pm')\n",
    "df.boxplot(column= box_plot_columns[0:9])"
   ]
  },
  {
   "cell_type": "code",
   "execution_count": 21,
   "id": "96ef50f9",
   "metadata": {},
   "outputs": [
    {
     "data": {
      "text/plain": [
       "<AxesSubplot:>"
      ]
     },
     "execution_count": 21,
     "metadata": {},
     "output_type": "execute_result"
    },
    {
     "data": {
      "image/png": "[encoded data removed]",
      "text/plain": [
       "<Figure size 1440x576 with 1 Axes>"
      ]
     },
     "metadata": {
      "needs_background": "light"
     },
     "output_type": "display_data"
    }
   ],
   "source": [
    "df.boxplot(column= box_plot_columns[10:19])"
   ]
  },
  {
   "cell_type": "code",
   "execution_count": 22,
   "id": "a981458a",
   "metadata": {},
   "outputs": [
    {
     "data": {
      "text/plain": [
       "array([[<AxesSubplot:title={'center':'MinTemp'}>,\n",
       "        <AxesSubplot:title={'center':'MaxTemp'}>,\n",
       "        <AxesSubplot:title={'center':'Rainfall'}>,\n",
       "        <AxesSubplot:title={'center':'Evaporation'}>,\n",
       "        <AxesSubplot:title={'center':'Sunshine'}>],\n",
       "       [<AxesSubplot:title={'center':'WindGustDir'}>,\n",
       "        <AxesSubplot:title={'center':'WindGustSpeed'}>,\n",
       "        <AxesSubplot:title={'center':'WindDir9am'}>,\n",
       "        <AxesSubplot:title={'center':'WindDir3pm'}>,\n",
       "        <AxesSubplot:title={'center':'WindSpeed9am'}>],\n",
       "       [<AxesSubplot:title={'center':'WindSpeed3pm'}>,\n",
       "        <AxesSubplot:title={'center':'Humidity9am'}>,\n",
       "        <AxesSubplot:title={'center':'Humidity3pm'}>,\n",
       "        <AxesSubplot:title={'center':'Pressure9am'}>,\n",
       "        <AxesSubplot:title={'center':'Pressure3pm'}>],\n",
       "       [<AxesSubplot:title={'center':'Cloud9am'}>,\n",
       "        <AxesSubplot:title={'center':'Cloud3pm'}>,\n",
       "        <AxesSubplot:title={'center':'Temp9am'}>,\n",
       "        <AxesSubplot:title={'center':'Temp3pm'}>,\n",
       "        <AxesSubplot:title={'center':'RainToday'}>],\n",
       "       [<AxesSubplot:title={'center':'RainTomorrow'}>,\n",
       "        <AxesSubplot:title={'center':'month'}>, <AxesSubplot:>,\n",
       "        <AxesSubplot:>, <AxesSubplot:>]], dtype=object)"
      ]
     },
     "execution_count": 22,
     "metadata": {},
     "output_type": "execute_result"
    },
    {
     "data": {
      "image/png": "[encoded data removed]",
      "text/plain": [
       "<Figure size 1440x1440 with 25 Axes>"
      ]
     },
     "metadata": {
      "needs_background": "light"
     },
     "output_type": "display_data"
    }
   ],
   "source": [
    "plt.rcParams[\"figure.figsize\"] = (20,20)\n",
    "df.hist()"
   ]
  },
  {
   "cell_type": "markdown",
   "id": "8eb4c812",
   "metadata": {},
   "source": [
    "I also created a heatmap to look at the correlation of the different features. There was high correlation between some of the columns. The temperatures taken at 9 AM and 3 PM, where highly correlated with the temperatures max and the min temperatures for the day. I decided to remove the individual temperature readings, and just keep the minimum and the maximum readings. \n",
    "\n",
    "The two pressure readings were also highly correlated with themselves. Since we are trying to predict rain tomorrow, and pressure is an indicator of the type of weather that is happening, I just kept the afternoon reading, which is closer to the time we are trying to predict. "
   ]
  },
  {
   "cell_type": "code",
   "execution_count": 23,
   "id": "683abc33",
   "metadata": {},
   "outputs": [
    {
     "data": {
      "text/plain": [
       "Text(0.5, 1.0, 'Correlation of Features')"
      ]
     },
     "execution_count": 23,
     "metadata": {},
     "output_type": "execute_result"
    },
    {
     "data": {
      "image/png": "[encoded data removed]",
      "text/plain": [
       "<Figure size 1080x1080 with 1 Axes>"
      ]
     },
     "metadata": {
      "needs_background": "light"
     },
     "output_type": "display_data"
    }
   ],
   "source": [
    "corr = df.corr()\n",
    "mask = mask = np.triu(corr)\n",
    "plt.rcParams[\"figure.figsize\"] = (15,15)\n",
    "ax1 = sns.heatmap(corr, cbar=0, linewidths=2,vmax=1, vmin=0, square=True, cmap='Blues', annot=True, mask=mask)\n",
    "plt.title('Correlation of Features')"
   ]
  },
  {
   "cell_type": "markdown",
   "id": "1e3f5588",
   "metadata": {},
   "source": [
    "Before dropping 'Pressure9am', I did also did some minor feature engineering by adding a column 'PressureChange'. This takes the difference in pressure from the morning pressure observation, and the afternoon pressure reading. I added this feature since pressure change can signal changes in weather. "
   ]
  },
  {
   "cell_type": "code",
   "execution_count": 24,
   "id": "7acc0877",
   "metadata": {},
   "outputs": [],
   "source": [
    "# Add Pressure Change\n",
    "df['PressueChange'] = df['Pressure3pm']-df['Pressure9am']"
   ]
  },
  {
   "cell_type": "code",
   "execution_count": 25,
   "id": "fba14f3b",
   "metadata": {},
   "outputs": [],
   "source": [
    "# Drop the highly correlated features\n",
    "df_dropped = df.drop(['Pressure9am','Temp9am','Temp3pm'], axis = 1)"
   ]
  },
  {
   "cell_type": "code",
   "execution_count": 26,
   "id": "9f91881c",
   "metadata": {
    "scrolled": true
   },
   "outputs": [
    {
     "data": {
      "text/html": [
       "<div>\n",
       "<style scoped>\n",
       "    .dataframe tbody tr th:only-of-type {\n",
       "        vertical-align: middle;\n",
       "    }\n",
       "\n",
       "    .dataframe tbody tr th {\n",
       "        vertical-align: top;\n",
       "    }\n",
       "\n",
       "    .dataframe thead th {\n",
       "        text-align: right;\n",
       "    }\n",
       "</style>\n",
       "<table border=\"1\" class=\"dataframe\">\n",
       "  <thead>\n",
       "    <tr style=\"text-align: right;\">\n",
       "      <th></th>\n",
       "      <th>MinTemp</th>\n",
       "      <th>MaxTemp</th>\n",
       "      <th>Rainfall</th>\n",
       "      <th>Evaporation</th>\n",
       "      <th>Sunshine</th>\n",
       "      <th>WindGustDir</th>\n",
       "      <th>WindGustSpeed</th>\n",
       "      <th>WindDir9am</th>\n",
       "      <th>WindDir3pm</th>\n",
       "      <th>WindSpeed9am</th>\n",
       "      <th>WindSpeed3pm</th>\n",
       "      <th>Humidity9am</th>\n",
       "      <th>Humidity3pm</th>\n",
       "      <th>Pressure3pm</th>\n",
       "      <th>Cloud9am</th>\n",
       "      <th>Cloud3pm</th>\n",
       "      <th>RainToday</th>\n",
       "      <th>RainTomorrow</th>\n",
       "      <th>month</th>\n",
       "      <th>PressueChange</th>\n",
       "    </tr>\n",
       "  </thead>\n",
       "  <tbody>\n",
       "    <tr>\n",
       "      <th>count</th>\n",
       "      <td>2705.000000</td>\n",
       "      <td>2705.000000</td>\n",
       "      <td>2705.000000</td>\n",
       "      <td>2705.000000</td>\n",
       "      <td>2705.000000</td>\n",
       "      <td>2705.000000</td>\n",
       "      <td>2705.000000</td>\n",
       "      <td>2705.000000</td>\n",
       "      <td>2705.000000</td>\n",
       "      <td>2705.000000</td>\n",
       "      <td>2705.000000</td>\n",
       "      <td>2705.000000</td>\n",
       "      <td>2705.000000</td>\n",
       "      <td>2705.000000</td>\n",
       "      <td>2705.000000</td>\n",
       "      <td>2705.000000</td>\n",
       "      <td>2705.000000</td>\n",
       "      <td>2705.000000</td>\n",
       "      <td>2705.000000</td>\n",
       "      <td>2705.000000</td>\n",
       "    </tr>\n",
       "    <tr>\n",
       "      <th>mean</th>\n",
       "      <td>14.772052</td>\n",
       "      <td>23.018743</td>\n",
       "      <td>3.205989</td>\n",
       "      <td>5.213974</td>\n",
       "      <td>7.294584</td>\n",
       "      <td>4.876155</td>\n",
       "      <td>27.027357</td>\n",
       "      <td>10.223290</td>\n",
       "      <td>5.925693</td>\n",
       "      <td>15.112015</td>\n",
       "      <td>19.322366</td>\n",
       "      <td>67.612939</td>\n",
       "      <td>53.984473</td>\n",
       "      <td>1016.069979</td>\n",
       "      <td>4.159704</td>\n",
       "      <td>4.205545</td>\n",
       "      <td>0.255453</td>\n",
       "      <td>0.252865</td>\n",
       "      <td>6.498706</td>\n",
       "      <td>-2.383330</td>\n",
       "    </tr>\n",
       "    <tr>\n",
       "      <th>std</th>\n",
       "      <td>4.546462</td>\n",
       "      <td>4.515104</td>\n",
       "      <td>9.544302</td>\n",
       "      <td>2.788708</td>\n",
       "      <td>3.760587</td>\n",
       "      <td>5.788733</td>\n",
       "      <td>22.570370</td>\n",
       "      <td>4.404775</td>\n",
       "      <td>4.998153</td>\n",
       "      <td>6.914125</td>\n",
       "      <td>7.409985</td>\n",
       "      <td>15.271722</td>\n",
       "      <td>16.282516</td>\n",
       "      <td>7.019000</td>\n",
       "      <td>2.751076</td>\n",
       "      <td>2.642655</td>\n",
       "      <td>0.436196</td>\n",
       "      <td>0.434735</td>\n",
       "      <td>3.354667</td>\n",
       "      <td>1.965685</td>\n",
       "    </tr>\n",
       "    <tr>\n",
       "      <th>min</th>\n",
       "      <td>4.300000</td>\n",
       "      <td>11.700000</td>\n",
       "      <td>0.000000</td>\n",
       "      <td>0.000000</td>\n",
       "      <td>0.000000</td>\n",
       "      <td>-1.000000</td>\n",
       "      <td>0.000000</td>\n",
       "      <td>0.000000</td>\n",
       "      <td>0.000000</td>\n",
       "      <td>2.000000</td>\n",
       "      <td>2.000000</td>\n",
       "      <td>19.000000</td>\n",
       "      <td>10.000000</td>\n",
       "      <td>990.300000</td>\n",
       "      <td>0.000000</td>\n",
       "      <td>0.000000</td>\n",
       "      <td>0.000000</td>\n",
       "      <td>0.000000</td>\n",
       "      <td>1.000000</td>\n",
       "      <td>-17.400000</td>\n",
       "    </tr>\n",
       "    <tr>\n",
       "      <th>25%</th>\n",
       "      <td>11.000000</td>\n",
       "      <td>19.600000</td>\n",
       "      <td>0.000000</td>\n",
       "      <td>3.200000</td>\n",
       "      <td>4.500000</td>\n",
       "      <td>-1.000000</td>\n",
       "      <td>0.000000</td>\n",
       "      <td>8.000000</td>\n",
       "      <td>1.000000</td>\n",
       "      <td>11.000000</td>\n",
       "      <td>15.000000</td>\n",
       "      <td>58.000000</td>\n",
       "      <td>43.000000</td>\n",
       "      <td>1011.300000</td>\n",
       "      <td>1.000000</td>\n",
       "      <td>1.000000</td>\n",
       "      <td>0.000000</td>\n",
       "      <td>0.000000</td>\n",
       "      <td>4.000000</td>\n",
       "      <td>-3.600000</td>\n",
       "    </tr>\n",
       "    <tr>\n",
       "      <th>50%</th>\n",
       "      <td>14.800000</td>\n",
       "      <td>22.800000</td>\n",
       "      <td>0.000000</td>\n",
       "      <td>4.800000</td>\n",
       "      <td>8.400000</td>\n",
       "      <td>4.000000</td>\n",
       "      <td>31.000000</td>\n",
       "      <td>13.000000</td>\n",
       "      <td>4.000000</td>\n",
       "      <td>15.000000</td>\n",
       "      <td>19.000000</td>\n",
       "      <td>68.000000</td>\n",
       "      <td>55.000000</td>\n",
       "      <td>1016.400000</td>\n",
       "      <td>4.000000</td>\n",
       "      <td>4.000000</td>\n",
       "      <td>0.000000</td>\n",
       "      <td>0.000000</td>\n",
       "      <td>7.000000</td>\n",
       "      <td>-2.500000</td>\n",
       "    </tr>\n",
       "    <tr>\n",
       "      <th>75%</th>\n",
       "      <td>18.700000</td>\n",
       "      <td>26.000000</td>\n",
       "      <td>1.200000</td>\n",
       "      <td>7.000000</td>\n",
       "      <td>10.200000</td>\n",
       "      <td>10.000000</td>\n",
       "      <td>44.000000</td>\n",
       "      <td>13.000000</td>\n",
       "      <td>10.000000</td>\n",
       "      <td>20.000000</td>\n",
       "      <td>24.000000</td>\n",
       "      <td>79.000000</td>\n",
       "      <td>64.000000</td>\n",
       "      <td>1020.900000</td>\n",
       "      <td>7.000000</td>\n",
       "      <td>7.000000</td>\n",
       "      <td>1.000000</td>\n",
       "      <td>1.000000</td>\n",
       "      <td>9.000000</td>\n",
       "      <td>-1.200000</td>\n",
       "    </tr>\n",
       "    <tr>\n",
       "      <th>max</th>\n",
       "      <td>27.100000</td>\n",
       "      <td>45.800000</td>\n",
       "      <td>119.400000</td>\n",
       "      <td>18.400000</td>\n",
       "      <td>13.600000</td>\n",
       "      <td>15.000000</td>\n",
       "      <td>96.000000</td>\n",
       "      <td>15.000000</td>\n",
       "      <td>15.000000</td>\n",
       "      <td>54.000000</td>\n",
       "      <td>57.000000</td>\n",
       "      <td>100.000000</td>\n",
       "      <td>96.000000</td>\n",
       "      <td>1036.000000</td>\n",
       "      <td>9.000000</td>\n",
       "      <td>8.000000</td>\n",
       "      <td>1.000000</td>\n",
       "      <td>1.000000</td>\n",
       "      <td>12.000000</td>\n",
       "      <td>6.500000</td>\n",
       "    </tr>\n",
       "  </tbody>\n",
       "</table>\n",
       "</div>"
      ],
      "text/plain": [
       "           MinTemp      MaxTemp     Rainfall  Evaporation     Sunshine  \\\n",
       "count  2705.000000  2705.000000  2705.000000  2705.000000  2705.000000   \n",
       "mean     14.772052    23.018743     3.205989     5.213974     7.294584   \n",
       "std       4.546462     4.515104     9.544302     2.788708     3.760587   \n",
       "min       4.300000    11.700000     0.000000     0.000000     0.000000   \n",
       "25%      11.000000    19.600000     0.000000     3.200000     4.500000   \n",
       "50%      14.800000    22.800000     0.000000     4.800000     8.400000   \n",
       "75%      18.700000    26.000000     1.200000     7.000000    10.200000   \n",
       "max      27.100000    45.800000   119.400000    18.400000    13.600000   \n",
       "\n",
       "       WindGustDir  WindGustSpeed   WindDir9am   WindDir3pm  WindSpeed9am  \\\n",
       "count  2705.000000    2705.000000  2705.000000  2705.000000   2705.000000   \n",
       "mean      4.876155      27.027357    10.223290     5.925693     15.112015   \n",
       "std       5.788733      22.570370     4.404775     4.998153      6.914125   \n",
       "min      -1.000000       0.000000     0.000000     0.000000      2.000000   \n",
       "25%      -1.000000       0.000000     8.000000     1.000000     11.000000   \n",
       "50%       4.000000      31.000000    13.000000     4.000000     15.000000   \n",
       "75%      10.000000      44.000000    13.000000    10.000000     20.000000   \n",
       "max      15.000000      96.000000    15.000000    15.000000     54.000000   \n",
       "\n",
       "       WindSpeed3pm  Humidity9am  Humidity3pm  Pressure3pm     Cloud9am  \\\n",
       "count   2705.000000  2705.000000  2705.000000  2705.000000  2705.000000   \n",
       "mean      19.322366    67.612939    53.984473  1016.069979     4.159704   \n",
       "std        7.409985    15.271722    16.282516     7.019000     2.751076   \n",
       "min        2.000000    19.000000    10.000000   990.300000     0.000000   \n",
       "25%       15.000000    58.000000    43.000000  1011.300000     1.000000   \n",
       "50%       19.000000    68.000000    55.000000  1016.400000     4.000000   \n",
       "75%       24.000000    79.000000    64.000000  1020.900000     7.000000   \n",
       "max       57.000000   100.000000    96.000000  1036.000000     9.000000   \n",
       "\n",
       "          Cloud3pm    RainToday  RainTomorrow        month  PressueChange  \n",
       "count  2705.000000  2705.000000   2705.000000  2705.000000    2705.000000  \n",
       "mean      4.205545     0.255453      0.252865     6.498706      -2.383330  \n",
       "std       2.642655     0.436196      0.434735     3.354667       1.965685  \n",
       "min       0.000000     0.000000      0.000000     1.000000     -17.400000  \n",
       "25%       1.000000     0.000000      0.000000     4.000000      -3.600000  \n",
       "50%       4.000000     0.000000      0.000000     7.000000      -2.500000  \n",
       "75%       7.000000     1.000000      1.000000     9.000000      -1.200000  \n",
       "max       8.000000     1.000000      1.000000    12.000000       6.500000  "
      ]
     },
     "execution_count": 26,
     "metadata": {},
     "output_type": "execute_result"
    }
   ],
   "source": [
    "df_dropped.describe()"
   ]
  },
  {
   "cell_type": "markdown",
   "id": "d88eec4a",
   "metadata": {},
   "source": [
    "## V. Modeling"
   ]
  },
  {
   "cell_type": "markdown",
   "id": "b53b2696",
   "metadata": {},
   "source": [
    "My first step in the modeling process was the split the target variable into its own dataframe, and split the data into training and test sets. "
   ]
  },
  {
   "cell_type": "code",
   "execution_count": 27,
   "id": "39254136",
   "metadata": {},
   "outputs": [],
   "source": [
    "\n",
    "# Create the X and y sets.\n",
    "y = df_dropped['RainTomorrow']\n",
    "X = df_dropped.drop('RainTomorrow', axis = 1)"
   ]
  },
  {
   "cell_type": "code",
   "execution_count": 28,
   "id": "ee5a6f79",
   "metadata": {},
   "outputs": [],
   "source": [
    "# Split the data into training and test\n",
    "\n",
    "X_train, X_test, y_train, y_test = train_test_split(\n",
    "    X, y, test_size=0.33, random_state=42)"
   ]
  },
  {
   "cell_type": "markdown",
   "id": "c700c1e7",
   "metadata": {},
   "source": [
    "Some of the models I was going to work better with normalized data. With the same train/test split, I also normalized the data."
   ]
  },
  {
   "cell_type": "code",
   "execution_count": 29,
   "id": "2d493693",
   "metadata": {},
   "outputs": [],
   "source": [
    "X_norm_train = normalize(X_train)\n",
    "X_norm_test = normalize(X_test)\n",
    "X_norm = normalize(X)"
   ]
  },
  {
   "cell_type": "markdown",
   "id": "0abdb039",
   "metadata": {},
   "source": [
    "I also created empty lists, so I could graph some comparison of models.\n"
   ]
  },
  {
   "cell_type": "code",
   "execution_count": 30,
   "id": "48eaea24",
   "metadata": {},
   "outputs": [],
   "source": [
    "all_scores = []\n",
    "all_recall = []\n",
    "all_precision = []\n",
    "all_tpr = []\n",
    "all_fpr = []\n",
    "all_auc = []\n",
    "all_models = []"
   ]
  },
  {
   "cell_type": "markdown",
   "id": "f7feab68",
   "metadata": {},
   "source": [
    "### KNN Neighbor Model"
   ]
  },
  {
   "cell_type": "markdown",
   "id": "b0954969",
   "metadata": {},
   "source": [
    "The first model that I chose to work with was the KNN nearest neighbors mode. I initially tried just the default values, and got a reasonable value, so I then moved on to trying to tune the hyperparameter of number of neighbors. This resulted in a best neighbor score of 25."
   ]
  },
  {
   "cell_type": "code",
   "execution_count": 31,
   "id": "32b8b7ab",
   "metadata": {},
   "outputs": [],
   "source": [
    "KN_class = KNeighborsClassifier()\n",
    "KN_model = KN_class.fit(X_norm_train, y_train)"
   ]
  },
  {
   "cell_type": "code",
   "execution_count": 32,
   "id": "c4b0c2f1",
   "metadata": {},
   "outputs": [
    {
     "data": {
      "text/plain": [
       "0.8040313549832027"
      ]
     },
     "execution_count": 32,
     "metadata": {},
     "output_type": "execute_result"
    }
   ],
   "source": [
    "KN_model.score(X_norm_test, y_test)"
   ]
  },
  {
   "cell_type": "code",
   "execution_count": 33,
   "id": "f96f355d",
   "metadata": {},
   "outputs": [
    {
     "name": "stdout",
     "output_type": "stream",
     "text": [
      "Fitting 5 folds for each of 49 candidates, totalling 245 fits\n"
     ]
    },
    {
     "data": {
      "text/plain": [
       "GridSearchCV(cv=5, estimator=KNeighborsClassifier(),\n",
       "             param_grid={'n_neighbors': range(1, 50)}, verbose=1)"
      ]
     },
     "execution_count": 33,
     "metadata": {},
     "output_type": "execute_result"
    }
   ],
   "source": [
    "test_neighbors = range(1,50)\n",
    "grid_kn=GridSearchCV(estimator = KNeighborsClassifier(),\n",
    "                  cv = 5,\n",
    "                  param_grid={\n",
    "                      'n_neighbors': test_neighbors}\n",
    "                     ,verbose = 1)\n",
    "grid_kn.fit(X_norm,y)\n",
    "                    \n",
    "                      "
   ]
  },
  {
   "cell_type": "code",
   "execution_count": 34,
   "id": "018c6522",
   "metadata": {},
   "outputs": [
    {
     "name": "stdout",
     "output_type": "stream",
     "text": [
      "{'n_neighbors': 27}\n",
      "0.8310536044362292\n"
     ]
    }
   ],
   "source": [
    "print(grid_kn.best_params_)\n",
    "print(grid_kn.best_score_)\n"
   ]
  },
  {
   "cell_type": "code",
   "execution_count": 35,
   "id": "0b042e8b",
   "metadata": {},
   "outputs": [
    {
     "name": "stdout",
     "output_type": "stream",
     "text": [
      "Accuracy: 0.8253079507278835\n",
      "Recall: 0.4425531914893617\n",
      "Precision: 0.8062015503875969\n"
     ]
    }
   ],
   "source": [
    "#Create an estimator off of the best estimator from the grid search\n",
    "KN_best = grid_kn.best_estimator_\n",
    "fpr, tpr, threshold = metrics.roc_curve(y_test, KN_best.predict_proba(X_test.values)[:,1])\n",
    "all_fpr.append(fpr)\n",
    "all_tpr.append(tpr)\n",
    "\n",
    "# Generate statistics about the models\n",
    "pred = KN_best.predict(X_test.values)\n",
    "accuracy = metrics.accuracy_score(y_test, pred)\n",
    "recall = metrics.recall_score(y_test, pred)\n",
    "precision = metrics.precision_score(y_test, pred)\n",
    "auc = metrics.auc(fpr, tpr)\n",
    "\n",
    "#Append scores for final analysis comparison\n",
    "all_scores.append(accuracy)\n",
    "all_recall.append(recall)\n",
    "all_precision.append(precision)\n",
    "all_auc.append(auc)\n",
    "all_models.append('KNN')\n",
    "\n",
    "print(f\"Accuracy: {accuracy}\")\n",
    "print(f\"Recall: {recall}\")\n",
    "print(f\"Precision: {precision}\")"
   ]
  },
  {
   "cell_type": "markdown",
   "id": "e1b5cc89",
   "metadata": {},
   "source": [
    "### Decision Tree Model"
   ]
  },
  {
   "cell_type": "markdown",
   "id": "fc5969fe",
   "metadata": {},
   "source": [
    "I then moved on to try a decision tree model. I first tested it with the default parameters, and then tried to tune max_depth and ccp_alpha. Interestingly, in a basic decision tree model, the most accurate model, that I found, only had a max_depth of 1, with the most important feature being the afternoon humidity. If a model was only going to use one value, this is a logical one for it to use, since rain is moisture in the air, and humidity is a measure of moisture."
   ]
  },
  {
   "cell_type": "code",
   "execution_count": 36,
   "id": "447325e4",
   "metadata": {},
   "outputs": [],
   "source": [
    "tree_class = DecisionTreeClassifier()\n",
    "tree_mod = tree_class.fit(X_train, y_train)"
   ]
  },
  {
   "cell_type": "code",
   "execution_count": 37,
   "id": "5140e00c",
   "metadata": {},
   "outputs": [
    {
     "data": {
      "text/plain": [
       "0.7681970884658454"
      ]
     },
     "execution_count": 37,
     "metadata": {},
     "output_type": "execute_result"
    }
   ],
   "source": [
    "tree_mod.score(X_test, y_test)"
   ]
  },
  {
   "cell_type": "code",
   "execution_count": 38,
   "id": "fb24ca86",
   "metadata": {},
   "outputs": [
    {
     "name": "stdout",
     "output_type": "stream",
     "text": [
      "19\n"
     ]
    }
   ],
   "source": [
    "print(tree_mod.get_depth())"
   ]
  },
  {
   "cell_type": "code",
   "execution_count": 39,
   "id": "26d5f252",
   "metadata": {},
   "outputs": [
    {
     "name": "stdout",
     "output_type": "stream",
     "text": [
      "Fitting 5 folds for each of 84 candidates, totalling 420 fits\n"
     ]
    },
    {
     "data": {
      "text/plain": [
       "GridSearchCV(cv=5, estimator=DecisionTreeClassifier(),\n",
       "             param_grid={'ccp_alpha': [0, 0.01, 0.02, 0.03, 0.04, 0.05, 0.06],\n",
       "                         'max_depth': [1, 2, 3, 4, 5, 7, 8, 9, 10, 15, 20, 50]},\n",
       "             verbose=1)"
      ]
     },
     "execution_count": 39,
     "metadata": {},
     "output_type": "execute_result"
    }
   ],
   "source": [
    "grid_tree=GridSearchCV(estimator = DecisionTreeClassifier(),\n",
    "                  cv = 5,\n",
    "                  param_grid={\n",
    "                      'max_depth': [1,2,3,4,5,7,8,9,10,15,20,50],\n",
    "                      'ccp_alpha': [0,.01,.02,.03,.04,.05,.06]},\n",
    "                  verbose =1)\n",
    "grid_tree.fit(X_train,y_train)\n"
   ]
  },
  {
   "cell_type": "code",
   "execution_count": 40,
   "id": "1dc0cfaf",
   "metadata": {},
   "outputs": [
    {
     "name": "stdout",
     "output_type": "stream",
     "text": [
      "{'ccp_alpha': 0, 'max_depth': 1}\n",
      "0.8316926167754897\n"
     ]
    }
   ],
   "source": [
    "print(grid_tree.best_params_)\n",
    "print(grid_tree.best_score_)"
   ]
  },
  {
   "cell_type": "code",
   "execution_count": 41,
   "id": "e34fea52",
   "metadata": {},
   "outputs": [
    {
     "name": "stdout",
     "output_type": "stream",
     "text": [
      "Accuracy: 0.812989921612542\n",
      "Recall: 0.3702127659574468\n",
      "Precision: 0.8207547169811321\n"
     ]
    }
   ],
   "source": [
    "#Create an estimator off of the best estimator from the grid search\n",
    "grid_tree_best = grid_tree.best_estimator_\n",
    "fpr, tpr, threshold = metrics.roc_curve(y_test, grid_tree_best.predict_proba(X_test)[:,1])\n",
    "all_fpr.append(fpr)\n",
    "all_tpr.append(tpr)\n",
    "\n",
    "# Generate statistics about the models\n",
    "pred = grid_tree_best.predict(X_test)\n",
    "accuracy = metrics.accuracy_score(y_test, pred)\n",
    "recall = metrics.recall_score(y_test, pred)\n",
    "precision = metrics.precision_score(y_test, pred)\n",
    "auc = metrics.auc(fpr, tpr)\n",
    "\n",
    "#Append scores for final analysis comparison\n",
    "all_scores.append(accuracy)\n",
    "all_recall.append(recall)\n",
    "all_precision.append(precision)\n",
    "all_auc.append(auc)\n",
    "all_models.append('Decision Tree')\n",
    "\n",
    "print(f\"Accuracy: {accuracy}\")\n",
    "print(f\"Recall: {recall}\")\n",
    "print(f\"Precision: {precision}\")"
   ]
  },
  {
   "cell_type": "code",
   "execution_count": 42,
   "id": "5a870a3c",
   "metadata": {},
   "outputs": [
    {
     "data": {
      "text/plain": [
       "<AxesSubplot:title={'center':'Feature Importance'}>"
      ]
     },
     "execution_count": 42,
     "metadata": {},
     "output_type": "execute_result"
    },
    {
     "data": {
      "image/png": "[encoded data removed]",
      "text/plain": [
       "<Figure size 576x432 with 1 Axes>"
      ]
     },
     "metadata": {
      "needs_background": "light"
     },
     "output_type": "display_data"
    }
   ],
   "source": [
    "# Plot of feature importance\n",
    "\n",
    "feat_importances = pd.DataFrame(grid_tree_best.feature_importances_, index=X.columns, columns=[\"Importance\"])\n",
    "feat_importances.sort_values(by='Importance', ascending=False, inplace=True)\n",
    "feat_importances.plot(kind='bar', figsize=(8,6), title = 'Feature Importance')"
   ]
  },
  {
   "cell_type": "markdown",
   "id": "480d0f8c",
   "metadata": {},
   "source": [
    "### AdaBoost Model"
   ]
  },
  {
   "cell_type": "markdown",
   "id": "39d5a85a",
   "metadata": {},
   "source": [
    "I also tried an AdaBoost Model. After an initial test with the default parameters, I also tuned the parameters n-estimators and learning_rate. I initially ran the grid search, and then when I got the answer, I then added some parameters around the best model, so see if I could further fine tune the model. It also showed that afternoon humidity was the most important, but also took into account other variables as well. The pressure change feature that I added, had importance in the model, but it was the least important of the important features that the model used."
   ]
  },
  {
   "cell_type": "code",
   "execution_count": 43,
   "id": "1e61a8d9",
   "metadata": {},
   "outputs": [
    {
     "data": {
      "text/plain": [
       "0.8085106382978723"
      ]
     },
     "execution_count": 43,
     "metadata": {},
     "output_type": "execute_result"
    }
   ],
   "source": [
    "ada_class = AdaBoostClassifier(learning_rate = .5)\n",
    "ada_model = ada_class.fit(X_train, y_train)\n",
    "ada_model.score(X_test, y_test)"
   ]
  },
  {
   "cell_type": "code",
   "execution_count": 44,
   "id": "31f6d7c5",
   "metadata": {},
   "outputs": [
    {
     "name": "stdout",
     "output_type": "stream",
     "text": [
      "Fitting 5 folds for each of 132 candidates, totalling 660 fits\n"
     ]
    },
    {
     "data": {
      "text/plain": [
       "GridSearchCV(cv=5, estimator=AdaBoostClassifier(),\n",
       "             param_grid={'learning_rate': array([0.03125   , 0.04736614, 0.07179365, 0.10881882, 0.16493849,\n",
       "       0.25      , 0.37892914, 0.57434918, 0.87055056, 1.31950791,\n",
       "       2.        ]),\n",
       "                         'n_estimators': [1, 30, 35, 40, 45, 50, 55, 58, 59, 60,\n",
       "                                          61, 65]},\n",
       "             verbose=1)"
      ]
     },
     "execution_count": 44,
     "metadata": {},
     "output_type": "execute_result"
    }
   ],
   "source": [
    "learning_rate = np.logspace(-5,1,11, base = 2)\n",
    "grid_ada=GridSearchCV(estimator = AdaBoostClassifier(),\n",
    "                  cv = 5,\n",
    "                  param_grid={\n",
    "                      'n_estimators': [1,30,35,40,45,50,55,58,59,60,61,65],\n",
    "                      'learning_rate': learning_rate},\n",
    "                      verbose = 1)\n",
    "grid_ada.fit(X_train,y_train)"
   ]
  },
  {
   "cell_type": "code",
   "execution_count": 45,
   "id": "e7a60df5",
   "metadata": {},
   "outputs": [
    {
     "name": "stdout",
     "output_type": "stream",
     "text": [
      "{'learning_rate': 0.16493848884661177, 'n_estimators': 40}\n",
      "0.8493447787772249\n"
     ]
    }
   ],
   "source": [
    "print(grid_ada.best_params_)\n",
    "print(grid_ada.best_score_)"
   ]
  },
  {
   "cell_type": "code",
   "execution_count": 46,
   "id": "92d205dc",
   "metadata": {},
   "outputs": [
    {
     "name": "stdout",
     "output_type": "stream",
     "text": [
      "Accuracy: 0.8174692049272116\n",
      "Recall: 0.7571428571428571\n",
      "Precision: 0.7571428571428571\n"
     ]
    }
   ],
   "source": [
    "#Create an estimator off of the best estimator from the grid search\n",
    "ada_best = grid_ada.best_estimator_\n",
    "fpr, tpr, threshold = metrics.roc_curve(y_test, ada_best.predict_proba(X_test)[:,1])\n",
    "all_fpr.append(fpr)\n",
    "all_tpr.append(tpr)\n",
    "\n",
    "# Generate statistics about the models\n",
    "pred = ada_best.predict(X_test)\n",
    "accuracy = metrics.accuracy_score(y_test, pred)\n",
    "recall = metrics.precision_score(y_test, pred)\n",
    "precision = metrics.precision_score(y_test, pred)\n",
    "auc = metrics.auc(fpr, tpr)\n",
    "\n",
    "#Append scores for final analysis comparison\n",
    "all_scores.append(accuracy)\n",
    "all_recall.append(recall)\n",
    "all_precision.append(precision)\n",
    "all_auc.append(auc)\n",
    "all_models.append('AdaBoost')\n",
    "\n",
    "print(f\"Accuracy: {accuracy}\")\n",
    "print(f\"Recall: {recall}\")\n",
    "print(f\"Precision: {precision}\")"
   ]
  },
  {
   "cell_type": "code",
   "execution_count": 47,
   "id": "8d5d3f9c",
   "metadata": {},
   "outputs": [
    {
     "data": {
      "text/plain": [
       "<AxesSubplot:title={'center':'Feature Importance'}>"
      ]
     },
     "execution_count": 47,
     "metadata": {},
     "output_type": "execute_result"
    },
    {
     "data": {
      "image/png": "[encoded data removed]",
      "text/plain": [
       "<Figure size 576x432 with 1 Axes>"
      ]
     },
     "metadata": {
      "needs_background": "light"
     },
     "output_type": "display_data"
    }
   ],
   "source": [
    "# Plot of feature importance\n",
    "\n",
    "feat_importances = pd.DataFrame(ada_best.feature_importances_, index=X.columns, columns=[\"Importance\"])\n",
    "feat_importances.sort_values(by='Importance', ascending=False, inplace=True)\n",
    "feat_importances.plot(kind='bar', figsize=(8,6), title = 'Feature Importance')"
   ]
  },
  {
   "cell_type": "markdown",
   "id": "f3ec91cf",
   "metadata": {},
   "source": [
    "### Random Forest"
   ]
  },
  {
   "cell_type": "markdown",
   "id": "d22f3247",
   "metadata": {},
   "source": [
    "I also used the same procedure for random forest and tuned the hyperparameters n_estimators and max_features. The random forest did use all of the features, but the afternoon humidity was still the most important feature, but sunshine, was close behind on how important it is in the model."
   ]
  },
  {
   "cell_type": "code",
   "execution_count": 48,
   "id": "d52b5d7c",
   "metadata": {},
   "outputs": [
    {
     "data": {
      "text/plain": [
       "0.8230683090705487"
      ]
     },
     "execution_count": 48,
     "metadata": {},
     "output_type": "execute_result"
    }
   ],
   "source": [
    "rf_class = RandomForestClassifier()\n",
    "rf_model = rf_class.fit(X_train, y_train)\n",
    "rf_model.score(X_test, y_test)"
   ]
  },
  {
   "cell_type": "code",
   "execution_count": 49,
   "id": "3b8d29f0",
   "metadata": {},
   "outputs": [
    {
     "name": "stdout",
     "output_type": "stream",
     "text": [
      "Fitting 5 folds for each of 14 candidates, totalling 70 fits\n"
     ]
    },
    {
     "data": {
      "text/plain": [
       "GridSearchCV(cv=5, estimator=RandomForestClassifier(),\n",
       "             param_grid={'max_features': ['sqrt', 'log2'],\n",
       "                         'n_estimators': [25, 50, 100, 140, 150, 160, 200]},\n",
       "             verbose=1)"
      ]
     },
     "execution_count": 49,
     "metadata": {},
     "output_type": "execute_result"
    }
   ],
   "source": [
    "grid_rf=GridSearchCV(estimator = RandomForestClassifier(),\n",
    "                  cv = 5,\n",
    "                  param_grid={\n",
    "                      'n_estimators': [25,50,100,140,150,160,200],\n",
    "                      'max_features' : ['sqrt','log2']},\n",
    "                      verbose = 1)\n",
    "grid_rf.fit(X_train,y_train)"
   ]
  },
  {
   "cell_type": "code",
   "execution_count": 50,
   "id": "dd16cce3",
   "metadata": {},
   "outputs": [
    {
     "name": "stdout",
     "output_type": "stream",
     "text": [
      "{'max_features': 'sqrt', 'n_estimators': 140}\n",
      "0.8465884358400683\n"
     ]
    }
   ],
   "source": [
    "print(grid_rf.best_params_)\n",
    "print(grid_rf.best_score_)"
   ]
  },
  {
   "cell_type": "code",
   "execution_count": 51,
   "id": "e540cb96",
   "metadata": {},
   "outputs": [
    {
     "name": "stdout",
     "output_type": "stream",
     "text": [
      "Accuracy: 0.8219484882418813\n",
      "Recall: 0.46382978723404256\n",
      "Precision: 0.7676056338028169\n"
     ]
    }
   ],
   "source": [
    "#Create an estimator off of the best estimator from the grid search\n",
    "rf_best = grid_rf.best_estimator_\n",
    "fpr, tpr, threshold = metrics.roc_curve(y_test, rf_best.predict_proba(X_test)[:,1])\n",
    "all_fpr.append(fpr)\n",
    "all_tpr.append(tpr)\n",
    "\n",
    "# Generate statistics about the models\n",
    "pred = rf_best.predict(X_test)\n",
    "accuracy = metrics.accuracy_score(y_test, pred)\n",
    "recall = metrics.recall_score(y_test, pred)\n",
    "precision = metrics.precision_score(y_test, pred)\n",
    "auc = metrics.auc(fpr, tpr)\n",
    "\n",
    "#Append scores for final analysis comparison\n",
    "all_scores.append(accuracy)\n",
    "all_recall.append(recall)\n",
    "all_precision.append(precision)\n",
    "all_auc.append(auc)\n",
    "all_models.append('Random Forest')\n",
    "\n",
    "print(f\"Accuracy: {accuracy}\")\n",
    "print(f\"Recall: {recall}\")\n",
    "print(f\"Precision: {precision}\")"
   ]
  },
  {
   "cell_type": "code",
   "execution_count": 52,
   "id": "6115907f",
   "metadata": {},
   "outputs": [
    {
     "data": {
      "text/plain": [
       "<AxesSubplot:title={'center':'Feature Importance'}>"
      ]
     },
     "execution_count": 52,
     "metadata": {},
     "output_type": "execute_result"
    },
    {
     "data": {
      "image/png": "[encoded data removed]",
      "text/plain": [
       "<Figure size 576x432 with 1 Axes>"
      ]
     },
     "metadata": {
      "needs_background": "light"
     },
     "output_type": "display_data"
    }
   ],
   "source": [
    "# Plot of feature importance\n",
    "\n",
    "feat_importances = pd.DataFrame(rf_best.feature_importances_, index=X.columns, columns=[\"Importance\"])\n",
    "feat_importances.sort_values(by='Importance', ascending=False, inplace=True)\n",
    "feat_importances.plot(kind='bar', figsize=(8,6), title = 'Feature Importance')"
   ]
  },
  {
   "cell_type": "markdown",
   "id": "9c214010",
   "metadata": {},
   "source": [
    "## VI. Results and Analysis"
   ]
  },
  {
   "cell_type": "markdown",
   "id": "a56effdb",
   "metadata": {},
   "source": [
    "Since this is an unbalanced dataset, it is important to remember that there was only rain the next day on 25 percent of days. This means that you could guess that there no rainy days and you would have an accuracy of 75 percent. Therefore, accuracy should not be the most important metric to look at. All of the models have very similar accuracy, but that is misleading in this case. \n",
    "\n",
    "Other metrics that can be looked at include, AUC, precision and recall. If we look at AUC, KNN was the hight rated metric, with decision tree coming in a distant last place. \n",
    "\n",
    "However, if we then look at precision, the basic decision tree appears to be the winner, with KNN almost as good, while AdaBoost and Random Forest, have slightly lower precision scores.\n",
    "\n",
    "Recall, though, is where things get interesting. Most of the models are absolutely abysmal when it comes to recall. Three of the models had a recall of less than .5. Which means, even though the model tended to be right about its positive predictions, they also predicted that a lot of days would have no rain, when in fact it did rain. The interesting outlier in this case is the AdaBoost model. It had a recall of .75, which is significantly higher than all of the other models. This was made with a slight decrease in precision."
   ]
  },
  {
   "cell_type": "code",
   "execution_count": 53,
   "id": "d48af4c0",
   "metadata": {},
   "outputs": [
    {
     "data": {
      "image/png": "[encoded data removed]",
      "text/plain": [
       "<Figure size 720x720 with 1 Axes>"
      ]
     },
     "metadata": {
      "needs_background": "light"
     },
     "output_type": "display_data"
    }
   ],
   "source": [
    "#ROC Graph\n",
    "plt.rcParams[\"figure.figsize\"] = (10,10)\n",
    "\n",
    "#plt.plot(all_fpr,all_tpr, label = 'AUC = %0.2f' % auc, color = 'orange')\n",
    "\n",
    "for i, tpr in enumerate(all_tpr):\n",
    "    plt.plot(all_fpr[i],tpr, label = f\"{all_models[i]} (AUC={all_auc[i]:.3})\")\n",
    "\n",
    "plt.title('ROC Curve')\n",
    "plt.ylabel('True Postive Rate')\n",
    "plt.xlabel('False Postive Rate')\n",
    "plt.plot([0, 1], [0, 1], \"k--\", label=\"Chance Level (AUC = 0.5)\")\n",
    "plt.legend(loc = 'best')\n",
    "plt.show()\n"
   ]
  },
  {
   "cell_type": "code",
   "execution_count": 54,
   "id": "7986ab1e",
   "metadata": {},
   "outputs": [
    {
     "data": {
      "image/png": "[encoded data removed]",
      "text/plain": [
       "<Figure size 720x720 with 1 Axes>"
      ]
     },
     "metadata": {
      "needs_background": "light"
     },
     "output_type": "display_data"
    }
   ],
   "source": [
    "#ROC Graph\n",
    "plt.rcParams[\"figure.figsize\"] = (10,10)\n",
    "\n",
    "#plt.plot(all_fpr,all_tpr, label = 'AUC = %0.2f' % auc, color = 'orange')\n",
    "axes = plt.axes()\n",
    "axes.set_ylim([0, 1])\n",
    "axes.set_ylim([.2, 1])\n",
    "plt.plot(all_models,all_scores, label = 'Accuracy', marker = '.', markersize = 10)\n",
    "plt.plot(all_models,all_auc, label = 'AUC', marker = '.', markersize = 10)\n",
    "plt.plot(all_models,all_recall, label = 'Recall', marker = '.', markersize = 10)\n",
    "plt.plot(all_models,all_precision, label = 'Precision', marker = '.', markersize = 10)\n",
    "\n",
    "plt.title('Model Metrics')\n",
    "plt.xlabel('Model')\n",
    "plt.ylabel('Value')\n",
    "\n",
    "\n",
    "\n",
    "plt.legend()\n",
    "plt.show()\n"
   ]
  },
  {
   "cell_type": "markdown",
   "id": "e18aca8c",
   "metadata": {},
   "source": [
    "This brings us to the question about what model we should use if we want to predict if it will rain tomorrow, from weather information from today. There isn't one obvious answer. If you want simplicity, you could go with the decision tree model. All one would need to measure the humidity in the afternoon, and you could make a prediction. However, that is certainly not the best solution, if you have access to more sophisticated modeling techniques. \n",
    "\n",
    "In that case, the choice is between KNN or AdaBoost. In overall performance, the KNN model does seem to be more accurate. But, since it has a lower recall value, it does this at the expense of having many false negatives. AdaBoost does a better job if having a more accurate recall is important. This is at the expense of a slight decrease in the precision of the model. "
   ]
  },
  {
   "cell_type": "markdown",
   "id": "7d18eaf0",
   "metadata": {},
   "source": [
    "## VII. Conclusion"
   ]
  },
  {
   "cell_type": "markdown",
   "id": "c5e639f7",
   "metadata": {},
   "source": [
    "One major thing that we can takeaway from this model is that predicting the weather from a single source is difficult. This is using weather data to predict if it will rain the next day with data from the same location. Obviously, models that use a more comprehensive set of data, would yield much better results. \n",
    "\n",
    "Another takeaway, is how important humidity seems to be in predicting rain in these models. It is so important, that in the decision tree model, it stopped after only on decision, even when attempting to iterate to a higher max depth.\n",
    "\n",
    "One thing that went wrong is that none of these models work particularly well. While they have fairly high accuracy that isn’t abysmal, one has to go back to the fact that only 25 percent of the days had rain to begin with, so if you always guess that it will never rain, then you will end up with a 75 percent accuracy. I think the reason for this is weather isn't only created locally, and 24 hours in the future is a long time to predict whether it will rain, by looking at the current weather at that location. \n",
    "The model could be improved by more feature selection. While I did spend some time on feature selection, there could be more iteration in that regard to see if any features could be added or removed that would give more accurate results. \n",
    "\n",
    "There are many ways in which we could expand this model testing. It would be interesting to add additional cities near Sydney, and give them a variable of next day rain in Sydney. I think this would enhance the model, and probably make it more accurate.\n"
   ]
  }
 ],
 "metadata": {
  "kernelspec": {
   "display_name": "Python 3 (ipykernel)",
   "language": "python",
   "name": "python3"
  },
  "language_info": {
   "codemirror_mode": {
    "name": "ipython",
    "version": 3
   },
   "file_extension": ".py",
   "mimetype": "text/x-python",
   "name": "python",
   "nbconvert_exporter": "python",
   "pygments_lexer": "ipython3",
   "version": "3.9.12"
  }
 },
 "nbformat": 4,
 "nbformat_minor": 5
}
